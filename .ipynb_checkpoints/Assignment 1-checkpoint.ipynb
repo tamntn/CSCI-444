{
 "cells": [
  {
   "cell_type": "markdown",
   "metadata": {},
   "source": [
    "# Assignment 1 - Tam Nguyen\n",
    "## Processing the data file"
   ]
  },
  {
   "cell_type": "code",
   "execution_count": 1,
   "metadata": {
    "collapsed": true
   },
   "outputs": [],
   "source": [
    "import csv\n",
    "import os\n",
    "import numpy as np\n",
    "\n",
    "file_name = \"table5_2014.csv\"\n",
    "input_file = open(file_name, 'r') #Open csv file\n",
    "input_file = csv.reader(input_file)\n",
    "\n",
    "year = []\n",
    "all_accidents = []\n",
    "fatal_accidents = []\n",
    "\n",
    "total_fatalities = []\n",
    "aboard_fatalities = []\n",
    "\n",
    "flight_hours = []\n",
    "miles_flown = []\n",
    "total_departures = []\n",
    "\n",
    "accidents_per_flight_hours = []\n",
    "fatal_per_flight_hours = []\n",
    "\n",
    "accidents_per_miles_flown = []\n",
    "fatal_per_miles_flown = []\n",
    "\n",
    "accidents_per_departure = []\n",
    "fatal_per_departure = []\n",
    "\n",
    "row_num = 1\n",
    "\n",
    "for row in input_file:\n",
    "    if(row_num >= 6 and row_num <=37):\n",
    "        year.append(row[0])\n",
    "        all_accidents.append(int(row[2]))\n",
    "        fatal_accidents.append(int(row[3]))\n",
    "        total_fatalities.append(int(row[4]))\n",
    "        aboard_fatalities.append(int(row[5]))\n",
    "\n",
    "        flight_hours.append(int(row[6].replace(\",\",\"\")))\n",
    "        miles_flown.append(int(row[7].replace(\",\",\"\")))\n",
    "        total_departures.append(int(row[8].replace(\",\",\"\")))\n",
    "\n",
    "        accidents_per_flight_hours.append(float(row[9]))\n",
    "        accidents_per_miles_flown.append(float(row[11]))\n",
    "        accidents_per_departure.append(float(row[13]))\n",
    "\n",
    "        if('-' in row[10]):\n",
    "            fatal_per_flight_hours.append(0.0)\n",
    "            fatal_per_miles_flown.append(0.0)\n",
    "            fatal_per_departure.append(0.0)\n",
    "        else:\n",
    "            fatal_per_flight_hours.append(float(row[10]))\n",
    "            fatal_per_miles_flown.append(float(row[12]))\n",
    "            fatal_per_departure.append(float(row[14]))\n",
    "    row_num = row_num + 1"
   ]
  },
  {
   "cell_type": "markdown",
   "metadata": {},
   "source": [
    "## Calculating the basic statistical properties of three variables"
   ]
  },
  {
   "cell_type": "code",
   "execution_count": 2,
   "metadata": {
    "collapsed": true
   },
   "outputs": [],
   "source": [
    "# Total number of year in database\n",
    "number_of_year = len(year)\n",
    "\n",
    "# Calculate Range, Mean, Median, Standard Deviation, Variance and other basic stuffs\n",
    "\n",
    "range_all_accidents = max(all_accidents) - min(all_accidents)\n",
    "mean_all_accidents = sum(all_accidents)/float(number_of_year)\n",
    "median_all_accidents = np.median(all_accidents)\n",
    "std_all_accidents = np.std(all_accidents)\n",
    "var_all_accidents = np.var(all_accidents)\n",
    "\n",
    "range_total_fatalities = max(total_fatalities) - min(total_fatalities)\n",
    "mean_total_fatalities = sum(total_fatalities)/float(number_of_year)\n",
    "median_total_fatalities = np.median(total_fatalities)\n",
    "std_total_fatalities = np.std(total_fatalities)\n",
    "var_total_fatalities = np.var(total_fatalities)\n",
    "\n",
    "range_miles_flown = max(miles_flown) - min(miles_flown)\n",
    "mean_miles_flown = sum(miles_flown)/float(number_of_year)\n",
    "median_miles_flown = np.median(miles_flown)\n",
    "std_miles_flown = np.std(miles_flown)\n",
    "var_miles_flown = np.var(miles_flown)\n",
    "\n",
    "#Print the numpy package path\n",
    "#print np.__path__"
   ]
  },
  {
   "cell_type": "code",
   "execution_count": 3,
   "metadata": {},
   "outputs": [
    {
     "data": {
      "text/plain": [
       "'2.0.11'"
      ]
     },
     "execution_count": 3,
     "metadata": {},
     "output_type": "execute_result"
    }
   ],
   "source": [
    "import plotly\n",
    "plotly.__version__"
   ]
  },
  {
   "cell_type": "markdown",
   "metadata": {},
   "source": [
    "## Creating table for showing basic statistical properties of the three variables"
   ]
  },
  {
   "cell_type": "code",
   "execution_count": 4,
   "metadata": {},
   "outputs": [
    {
     "data": {
      "text/html": [
       "<script>requirejs.config({paths: { 'plotly': ['https://cdn.plot.ly/plotly-latest.min']},});if(!window.Plotly) {{require(['plotly'],function(plotly) {window.Plotly=plotly;});}}</script>"
      ],
      "text/vnd.plotly.v1+html": [
       "<script>requirejs.config({paths: { 'plotly': ['https://cdn.plot.ly/plotly-latest.min']},});if(!window.Plotly) {{require(['plotly'],function(plotly) {window.Plotly=plotly;});}}</script>"
      ]
     },
     "metadata": {},
     "output_type": "display_data"
    },
    {
     "data": {
      "application/vnd.plotly.v1+json": {
       "data": [
        {
         "colorscale": [
          [
           0,
           "#00083e"
          ],
          [
           0.5,
           "#ededee"
          ],
          [
           1,
           "#ffffff"
          ]
         ],
         "hoverinfo": "none",
         "opacity": 0.75,
         "showscale": false,
         "type": "heatmap",
         "z": [
          [
           0,
           0,
           0,
           0
          ],
          [
           0.5,
           0.5,
           0.5,
           0.5
          ],
          [
           1,
           1,
           1,
           1
          ],
          [
           0.5,
           0.5,
           0.5,
           0.5
          ],
          [
           1,
           1,
           1,
           1
          ],
          [
           0.5,
           0.5,
           0.5,
           0.5
          ]
         ]
        }
       ],
       "layout": {
        "annotations": [
         {
          "align": "left",
          "font": {
           "color": "#ffffff"
          },
          "showarrow": false,
          "text": "<b>Statistical Properties</b>",
          "x": -0.45,
          "xanchor": "left",
          "xref": "x1",
          "y": 0,
          "yref": "y1"
         },
         {
          "align": "left",
          "font": {
           "color": "#ffffff"
          },
          "showarrow": false,
          "text": "<b>All Accidents</b>",
          "x": 0.55,
          "xanchor": "left",
          "xref": "x1",
          "y": 0,
          "yref": "y1"
         },
         {
          "align": "left",
          "font": {
           "color": "#ffffff"
          },
          "showarrow": false,
          "text": "<b>Total Fatalities</b>",
          "x": 1.55,
          "xanchor": "left",
          "xref": "x1",
          "y": 0,
          "yref": "y1"
         },
         {
          "align": "left",
          "font": {
           "color": "#ffffff"
          },
          "showarrow": false,
          "text": "<b>Miles Flown</b>",
          "x": 2.55,
          "xanchor": "left",
          "xref": "x1",
          "y": 0,
          "yref": "y1"
         },
         {
          "align": "left",
          "font": {
           "color": "#000000"
          },
          "showarrow": false,
          "text": "Range",
          "x": -0.45,
          "xanchor": "left",
          "xref": "x1",
          "y": 1,
          "yref": "y1"
         },
         {
          "align": "left",
          "font": {
           "color": "#000000"
          },
          "showarrow": false,
          "text": "40",
          "x": 0.55,
          "xanchor": "left",
          "xref": "x1",
          "y": 1,
          "yref": "y1"
         },
         {
          "align": "left",
          "font": {
           "color": "#000000"
          },
          "showarrow": false,
          "text": "531",
          "x": 1.55,
          "xanchor": "left",
          "xref": "x1",
          "y": 1,
          "yref": "y1"
         },
         {
          "align": "left",
          "font": {
           "color": "#000000"
          },
          "showarrow": false,
          "text": "5246587000",
          "x": 2.55,
          "xanchor": "left",
          "xref": "x1",
          "y": 1,
          "yref": "y1"
         },
         {
          "align": "left",
          "font": {
           "color": "#000000"
          },
          "showarrow": false,
          "text": "Mean",
          "x": -0.45,
          "xanchor": "left",
          "xref": "x1",
          "y": 2,
          "yref": "y1"
         },
         {
          "align": "left",
          "font": {
           "color": "#000000"
          },
          "showarrow": false,
          "text": "32.4375",
          "x": 0.55,
          "xanchor": "left",
          "xref": "x1",
          "y": 2,
          "yref": "y1"
         },
         {
          "align": "left",
          "font": {
           "color": "#000000"
          },
          "showarrow": false,
          "text": "96.53125",
          "x": 1.55,
          "xanchor": "left",
          "xref": "x1",
          "y": 2,
          "yref": "y1"
         },
         {
          "align": "left",
          "font": {
           "color": "#000000"
          },
          "showarrow": false,
          "text": "6277518975.0",
          "x": 2.55,
          "xanchor": "left",
          "xref": "x1",
          "y": 2,
          "yref": "y1"
         },
         {
          "align": "left",
          "font": {
           "color": "#000000"
          },
          "showarrow": false,
          "text": "Median",
          "x": -0.45,
          "xanchor": "left",
          "xref": "x1",
          "y": 3,
          "yref": "y1"
         },
         {
          "align": "left",
          "font": {
           "color": "#000000"
          },
          "showarrow": false,
          "text": "30.0",
          "x": 0.55,
          "xanchor": "left",
          "xref": "x1",
          "y": 3,
          "yref": "y1"
         },
         {
          "align": "left",
          "font": {
           "color": "#000000"
          },
          "showarrow": false,
          "text": "18.5",
          "x": 1.55,
          "xanchor": "left",
          "xref": "x1",
          "y": 3,
          "yref": "y1"
         },
         {
          "align": "left",
          "font": {
           "color": "#000000"
          },
          "showarrow": false,
          "text": "6918928500.0",
          "x": 2.55,
          "xanchor": "left",
          "xref": "x1",
          "y": 3,
          "yref": "y1"
         },
         {
          "align": "left",
          "font": {
           "color": "#000000"
          },
          "showarrow": false,
          "text": "Standard Deviation",
          "x": -0.45,
          "xanchor": "left",
          "xref": "x1",
          "y": 4,
          "yref": "y1"
         },
         {
          "align": "left",
          "font": {
           "color": "#000000"
          },
          "showarrow": false,
          "text": "10.5798673787",
          "x": 0.55,
          "xanchor": "left",
          "xref": "x1",
          "y": 4,
          "yref": "y1"
         },
         {
          "align": "left",
          "font": {
           "color": "#000000"
          },
          "showarrow": false,
          "text": "150.460332059",
          "x": 1.55,
          "xanchor": "left",
          "xref": "x1",
          "y": 4,
          "yref": "y1"
         },
         {
          "align": "left",
          "font": {
           "color": "#000000"
          },
          "showarrow": false,
          "text": "1594555227.75",
          "x": 2.55,
          "xanchor": "left",
          "xref": "x1",
          "y": 4,
          "yref": "y1"
         },
         {
          "align": "left",
          "font": {
           "color": "#000000"
          },
          "showarrow": false,
          "text": "Variance",
          "x": -0.45,
          "xanchor": "left",
          "xref": "x1",
          "y": 5,
          "yref": "y1"
         },
         {
          "align": "left",
          "font": {
           "color": "#000000"
          },
          "showarrow": false,
          "text": "111.93359375",
          "x": 0.55,
          "xanchor": "left",
          "xref": "x1",
          "y": 5,
          "yref": "y1"
         },
         {
          "align": "left",
          "font": {
           "color": "#000000"
          },
          "showarrow": false,
          "text": "22638.3115234",
          "x": 1.55,
          "xanchor": "left",
          "xref": "x1",
          "y": 5,
          "yref": "y1"
         },
         {
          "align": "left",
          "font": {
           "color": "#000000"
          },
          "showarrow": false,
          "text": "2.54260637436e+18",
          "x": 2.55,
          "xanchor": "left",
          "xref": "x1",
          "y": 5,
          "yref": "y1"
         }
        ],
        "height": 230,
        "margin": {
         "b": 0,
         "l": 0,
         "r": 0,
         "t": 0
        },
        "xaxis": {
         "dtick": 1,
         "gridwidth": 2,
         "showticklabels": false,
         "tick0": -0.5,
         "ticks": "",
         "zeroline": false
        },
        "yaxis": {
         "autorange": "reversed",
         "dtick": 1,
         "gridwidth": 2,
         "showticklabels": false,
         "tick0": 0.5,
         "ticks": "",
         "zeroline": false
        }
       }
      },
      "text/html": [
       "<div id=\"9e7bf45f-d552-4eb9-8554-64751c12f5ca\" style=\"height: 230px; width: 100%;\" class=\"plotly-graph-div\"></div><script type=\"text/javascript\">require([\"plotly\"], function(Plotly) { window.PLOTLYENV=window.PLOTLYENV || {};window.PLOTLYENV.BASE_URL=\"https://plot.ly\";Plotly.newPlot(\"9e7bf45f-d552-4eb9-8554-64751c12f5ca\", [{\"opacity\": 0.75, \"colorscale\": [[0, \"#00083e\"], [0.5, \"#ededee\"], [1, \"#ffffff\"]], \"showscale\": false, \"hoverinfo\": \"none\", \"z\": [[0, 0, 0, 0], [0.5, 0.5, 0.5, 0.5], [1, 1, 1, 1], [0.5, 0.5, 0.5, 0.5], [1, 1, 1, 1], [0.5, 0.5, 0.5, 0.5]], \"type\": \"heatmap\"}], {\"yaxis\": {\"showticklabels\": false, \"tick0\": 0.5, \"ticks\": \"\", \"gridwidth\": 2, \"dtick\": 1, \"zeroline\": false, \"autorange\": \"reversed\"}, \"margin\": {\"r\": 0, \"b\": 0, \"l\": 0, \"t\": 0}, \"annotations\": [{\"xref\": \"x1\", \"xanchor\": \"left\", \"yref\": \"y1\", \"text\": \"<b>Statistical Properties</b>\", \"align\": \"left\", \"y\": 0, \"x\": -0.45, \"font\": {\"color\": \"#ffffff\"}, \"showarrow\": false}, {\"xref\": \"x1\", \"xanchor\": \"left\", \"yref\": \"y1\", \"text\": \"<b>All Accidents</b>\", \"align\": \"left\", \"y\": 0, \"x\": 0.55, \"font\": {\"color\": \"#ffffff\"}, \"showarrow\": false}, {\"xref\": \"x1\", \"xanchor\": \"left\", \"yref\": \"y1\", \"text\": \"<b>Total Fatalities</b>\", \"align\": \"left\", \"y\": 0, \"x\": 1.55, \"font\": {\"color\": \"#ffffff\"}, \"showarrow\": false}, {\"xref\": \"x1\", \"xanchor\": \"left\", \"yref\": \"y1\", \"text\": \"<b>Miles Flown</b>\", \"align\": \"left\", \"y\": 0, \"x\": 2.55, \"font\": {\"color\": \"#ffffff\"}, \"showarrow\": false}, {\"xref\": \"x1\", \"xanchor\": \"left\", \"yref\": \"y1\", \"text\": \"Range\", \"align\": \"left\", \"y\": 1, \"x\": -0.45, \"font\": {\"color\": \"#000000\"}, \"showarrow\": false}, {\"xref\": \"x1\", \"xanchor\": \"left\", \"yref\": \"y1\", \"text\": \"40\", \"align\": \"left\", \"y\": 1, \"x\": 0.55, \"font\": {\"color\": \"#000000\"}, \"showarrow\": false}, {\"xref\": \"x1\", \"xanchor\": \"left\", \"yref\": \"y1\", \"text\": \"531\", \"align\": \"left\", \"y\": 1, \"x\": 1.55, \"font\": {\"color\": \"#000000\"}, \"showarrow\": false}, {\"xref\": \"x1\", \"xanchor\": \"left\", \"yref\": \"y1\", \"text\": \"5246587000\", \"align\": \"left\", \"y\": 1, \"x\": 2.55, \"font\": {\"color\": \"#000000\"}, \"showarrow\": false}, {\"xref\": \"x1\", \"xanchor\": \"left\", \"yref\": \"y1\", \"text\": \"Mean\", \"align\": \"left\", \"y\": 2, \"x\": -0.45, \"font\": {\"color\": \"#000000\"}, \"showarrow\": false}, {\"xref\": \"x1\", \"xanchor\": \"left\", \"yref\": \"y1\", \"text\": \"32.4375\", \"align\": \"left\", \"y\": 2, \"x\": 0.55, \"font\": {\"color\": \"#000000\"}, \"showarrow\": false}, {\"xref\": \"x1\", \"xanchor\": \"left\", \"yref\": \"y1\", \"text\": \"96.53125\", \"align\": \"left\", \"y\": 2, \"x\": 1.55, \"font\": {\"color\": \"#000000\"}, \"showarrow\": false}, {\"xref\": \"x1\", \"xanchor\": \"left\", \"yref\": \"y1\", \"text\": \"6277518975.0\", \"align\": \"left\", \"y\": 2, \"x\": 2.55, \"font\": {\"color\": \"#000000\"}, \"showarrow\": false}, {\"xref\": \"x1\", \"xanchor\": \"left\", \"yref\": \"y1\", \"text\": \"Median\", \"align\": \"left\", \"y\": 3, \"x\": -0.45, \"font\": {\"color\": \"#000000\"}, \"showarrow\": false}, {\"xref\": \"x1\", \"xanchor\": \"left\", \"yref\": \"y1\", \"text\": \"30.0\", \"align\": \"left\", \"y\": 3, \"x\": 0.55, \"font\": {\"color\": \"#000000\"}, \"showarrow\": false}, {\"xref\": \"x1\", \"xanchor\": \"left\", \"yref\": \"y1\", \"text\": \"18.5\", \"align\": \"left\", \"y\": 3, \"x\": 1.55, \"font\": {\"color\": \"#000000\"}, \"showarrow\": false}, {\"xref\": \"x1\", \"xanchor\": \"left\", \"yref\": \"y1\", \"text\": \"6918928500.0\", \"align\": \"left\", \"y\": 3, \"x\": 2.55, \"font\": {\"color\": \"#000000\"}, \"showarrow\": false}, {\"xref\": \"x1\", \"xanchor\": \"left\", \"yref\": \"y1\", \"text\": \"Standard Deviation\", \"align\": \"left\", \"y\": 4, \"x\": -0.45, \"font\": {\"color\": \"#000000\"}, \"showarrow\": false}, {\"xref\": \"x1\", \"xanchor\": \"left\", \"yref\": \"y1\", \"text\": \"10.5798673787\", \"align\": \"left\", \"y\": 4, \"x\": 0.55, \"font\": {\"color\": \"#000000\"}, \"showarrow\": false}, {\"xref\": \"x1\", \"xanchor\": \"left\", \"yref\": \"y1\", \"text\": \"150.460332059\", \"align\": \"left\", \"y\": 4, \"x\": 1.55, \"font\": {\"color\": \"#000000\"}, \"showarrow\": false}, {\"xref\": \"x1\", \"xanchor\": \"left\", \"yref\": \"y1\", \"text\": \"1594555227.75\", \"align\": \"left\", \"y\": 4, \"x\": 2.55, \"font\": {\"color\": \"#000000\"}, \"showarrow\": false}, {\"xref\": \"x1\", \"xanchor\": \"left\", \"yref\": \"y1\", \"text\": \"Variance\", \"align\": \"left\", \"y\": 5, \"x\": -0.45, \"font\": {\"color\": \"#000000\"}, \"showarrow\": false}, {\"xref\": \"x1\", \"xanchor\": \"left\", \"yref\": \"y1\", \"text\": \"111.93359375\", \"align\": \"left\", \"y\": 5, \"x\": 0.55, \"font\": {\"color\": \"#000000\"}, \"showarrow\": false}, {\"xref\": \"x1\", \"xanchor\": \"left\", \"yref\": \"y1\", \"text\": \"22638.3115234\", \"align\": \"left\", \"y\": 5, \"x\": 1.55, \"font\": {\"color\": \"#000000\"}, \"showarrow\": false}, {\"xref\": \"x1\", \"xanchor\": \"left\", \"yref\": \"y1\", \"text\": \"2.54260637436e+18\", \"align\": \"left\", \"y\": 5, \"x\": 2.55, \"font\": {\"color\": \"#000000\"}, \"showarrow\": false}], \"xaxis\": {\"showticklabels\": false, \"tick0\": -0.5, \"ticks\": \"\", \"gridwidth\": 2, \"dtick\": 1, \"zeroline\": false}, \"height\": 230}, {\"linkText\": \"Export to plot.ly\", \"showLink\": \"my_table\"})});</script>"
      ],
      "text/vnd.plotly.v1+html": [
       "<div id=\"9e7bf45f-d552-4eb9-8554-64751c12f5ca\" style=\"height: 230px; width: 100%;\" class=\"plotly-graph-div\"></div><script type=\"text/javascript\">require([\"plotly\"], function(Plotly) { window.PLOTLYENV=window.PLOTLYENV || {};window.PLOTLYENV.BASE_URL=\"https://plot.ly\";Plotly.newPlot(\"9e7bf45f-d552-4eb9-8554-64751c12f5ca\", [{\"opacity\": 0.75, \"colorscale\": [[0, \"#00083e\"], [0.5, \"#ededee\"], [1, \"#ffffff\"]], \"showscale\": false, \"hoverinfo\": \"none\", \"z\": [[0, 0, 0, 0], [0.5, 0.5, 0.5, 0.5], [1, 1, 1, 1], [0.5, 0.5, 0.5, 0.5], [1, 1, 1, 1], [0.5, 0.5, 0.5, 0.5]], \"type\": \"heatmap\"}], {\"yaxis\": {\"showticklabels\": false, \"tick0\": 0.5, \"ticks\": \"\", \"gridwidth\": 2, \"dtick\": 1, \"zeroline\": false, \"autorange\": \"reversed\"}, \"margin\": {\"r\": 0, \"b\": 0, \"l\": 0, \"t\": 0}, \"annotations\": [{\"xref\": \"x1\", \"xanchor\": \"left\", \"yref\": \"y1\", \"text\": \"<b>Statistical Properties</b>\", \"align\": \"left\", \"y\": 0, \"x\": -0.45, \"font\": {\"color\": \"#ffffff\"}, \"showarrow\": false}, {\"xref\": \"x1\", \"xanchor\": \"left\", \"yref\": \"y1\", \"text\": \"<b>All Accidents</b>\", \"align\": \"left\", \"y\": 0, \"x\": 0.55, \"font\": {\"color\": \"#ffffff\"}, \"showarrow\": false}, {\"xref\": \"x1\", \"xanchor\": \"left\", \"yref\": \"y1\", \"text\": \"<b>Total Fatalities</b>\", \"align\": \"left\", \"y\": 0, \"x\": 1.55, \"font\": {\"color\": \"#ffffff\"}, \"showarrow\": false}, {\"xref\": \"x1\", \"xanchor\": \"left\", \"yref\": \"y1\", \"text\": \"<b>Miles Flown</b>\", \"align\": \"left\", \"y\": 0, \"x\": 2.55, \"font\": {\"color\": \"#ffffff\"}, \"showarrow\": false}, {\"xref\": \"x1\", \"xanchor\": \"left\", \"yref\": \"y1\", \"text\": \"Range\", \"align\": \"left\", \"y\": 1, \"x\": -0.45, \"font\": {\"color\": \"#000000\"}, \"showarrow\": false}, {\"xref\": \"x1\", \"xanchor\": \"left\", \"yref\": \"y1\", \"text\": \"40\", \"align\": \"left\", \"y\": 1, \"x\": 0.55, \"font\": {\"color\": \"#000000\"}, \"showarrow\": false}, {\"xref\": \"x1\", \"xanchor\": \"left\", \"yref\": \"y1\", \"text\": \"531\", \"align\": \"left\", \"y\": 1, \"x\": 1.55, \"font\": {\"color\": \"#000000\"}, \"showarrow\": false}, {\"xref\": \"x1\", \"xanchor\": \"left\", \"yref\": \"y1\", \"text\": \"5246587000\", \"align\": \"left\", \"y\": 1, \"x\": 2.55, \"font\": {\"color\": \"#000000\"}, \"showarrow\": false}, {\"xref\": \"x1\", \"xanchor\": \"left\", \"yref\": \"y1\", \"text\": \"Mean\", \"align\": \"left\", \"y\": 2, \"x\": -0.45, \"font\": {\"color\": \"#000000\"}, \"showarrow\": false}, {\"xref\": \"x1\", \"xanchor\": \"left\", \"yref\": \"y1\", \"text\": \"32.4375\", \"align\": \"left\", \"y\": 2, \"x\": 0.55, \"font\": {\"color\": \"#000000\"}, \"showarrow\": false}, {\"xref\": \"x1\", \"xanchor\": \"left\", \"yref\": \"y1\", \"text\": \"96.53125\", \"align\": \"left\", \"y\": 2, \"x\": 1.55, \"font\": {\"color\": \"#000000\"}, \"showarrow\": false}, {\"xref\": \"x1\", \"xanchor\": \"left\", \"yref\": \"y1\", \"text\": \"6277518975.0\", \"align\": \"left\", \"y\": 2, \"x\": 2.55, \"font\": {\"color\": \"#000000\"}, \"showarrow\": false}, {\"xref\": \"x1\", \"xanchor\": \"left\", \"yref\": \"y1\", \"text\": \"Median\", \"align\": \"left\", \"y\": 3, \"x\": -0.45, \"font\": {\"color\": \"#000000\"}, \"showarrow\": false}, {\"xref\": \"x1\", \"xanchor\": \"left\", \"yref\": \"y1\", \"text\": \"30.0\", \"align\": \"left\", \"y\": 3, \"x\": 0.55, \"font\": {\"color\": \"#000000\"}, \"showarrow\": false}, {\"xref\": \"x1\", \"xanchor\": \"left\", \"yref\": \"y1\", \"text\": \"18.5\", \"align\": \"left\", \"y\": 3, \"x\": 1.55, \"font\": {\"color\": \"#000000\"}, \"showarrow\": false}, {\"xref\": \"x1\", \"xanchor\": \"left\", \"yref\": \"y1\", \"text\": \"6918928500.0\", \"align\": \"left\", \"y\": 3, \"x\": 2.55, \"font\": {\"color\": \"#000000\"}, \"showarrow\": false}, {\"xref\": \"x1\", \"xanchor\": \"left\", \"yref\": \"y1\", \"text\": \"Standard Deviation\", \"align\": \"left\", \"y\": 4, \"x\": -0.45, \"font\": {\"color\": \"#000000\"}, \"showarrow\": false}, {\"xref\": \"x1\", \"xanchor\": \"left\", \"yref\": \"y1\", \"text\": \"10.5798673787\", \"align\": \"left\", \"y\": 4, \"x\": 0.55, \"font\": {\"color\": \"#000000\"}, \"showarrow\": false}, {\"xref\": \"x1\", \"xanchor\": \"left\", \"yref\": \"y1\", \"text\": \"150.460332059\", \"align\": \"left\", \"y\": 4, \"x\": 1.55, \"font\": {\"color\": \"#000000\"}, \"showarrow\": false}, {\"xref\": \"x1\", \"xanchor\": \"left\", \"yref\": \"y1\", \"text\": \"1594555227.75\", \"align\": \"left\", \"y\": 4, \"x\": 2.55, \"font\": {\"color\": \"#000000\"}, \"showarrow\": false}, {\"xref\": \"x1\", \"xanchor\": \"left\", \"yref\": \"y1\", \"text\": \"Variance\", \"align\": \"left\", \"y\": 5, \"x\": -0.45, \"font\": {\"color\": \"#000000\"}, \"showarrow\": false}, {\"xref\": \"x1\", \"xanchor\": \"left\", \"yref\": \"y1\", \"text\": \"111.93359375\", \"align\": \"left\", \"y\": 5, \"x\": 0.55, \"font\": {\"color\": \"#000000\"}, \"showarrow\": false}, {\"xref\": \"x1\", \"xanchor\": \"left\", \"yref\": \"y1\", \"text\": \"22638.3115234\", \"align\": \"left\", \"y\": 5, \"x\": 1.55, \"font\": {\"color\": \"#000000\"}, \"showarrow\": false}, {\"xref\": \"x1\", \"xanchor\": \"left\", \"yref\": \"y1\", \"text\": \"2.54260637436e+18\", \"align\": \"left\", \"y\": 5, \"x\": 2.55, \"font\": {\"color\": \"#000000\"}, \"showarrow\": false}], \"xaxis\": {\"showticklabels\": false, \"tick0\": -0.5, \"ticks\": \"\", \"gridwidth\": 2, \"dtick\": 1, \"zeroline\": false}, \"height\": 230}, {\"linkText\": \"Export to plot.ly\", \"showLink\": \"my_table\"})});</script>"
      ]
     },
     "metadata": {},
     "output_type": "display_data"
    }
   ],
   "source": [
    "import plotly.offline as py\n",
    "import plotly.figure_factory as ff\n",
    "py.init_notebook_mode(connected=True)\n",
    "\n",
    "data_matrix = [['Statistical Properties', 'All Accidents', 'Total Fatalities', 'Miles Flown'],\n",
    "               ['Range', range_all_accidents, range_total_fatalities, range_miles_flown],\n",
    "               ['Mean', mean_all_accidents, mean_total_fatalities, mean_miles_flown],\n",
    "               ['Median', median_all_accidents, median_total_fatalities, median_miles_flown],\n",
    "               ['Standard Deviation', std_all_accidents, std_total_fatalities, std_miles_flown],\n",
    "               ['Variance', var_all_accidents, var_total_fatalities, var_miles_flown]]\n",
    "\n",
    "table = ff.create_table(data_matrix)\n",
    "py.iplot(table,'my_table')"
   ]
  },
  {
   "cell_type": "markdown",
   "metadata": {},
   "source": [
    "## Drawing boxplots and histograms for the three variables"
   ]
  },
  {
   "cell_type": "code",
   "execution_count": 5,
   "metadata": {},
   "outputs": [
    {
     "data": {
      "application/vnd.plotly.v1+json": {
       "data": [
        {
         "name": "All Accidents",
         "type": "box",
         "y": [
          23,
          16,
          21,
          24,
          34,
          30,
          28,
          24,
          26,
          18,
          23,
          23,
          36,
          37,
          49,
          50,
          51,
          56,
          46,
          41,
          54,
          30,
          40,
          33,
          28,
          28,
          30,
          30,
          31,
          27,
          23,
          28
         ]
        },
        {
         "name": "Fatal Accidents",
         "type": "box",
         "y": [
          4,
          1,
          7,
          3,
          5,
          3,
          11,
          6,
          4,
          4,
          1,
          4,
          3,
          5,
          4,
          1,
          2,
          3,
          6,
          0,
          2,
          2,
          3,
          2,
          1,
          2,
          2,
          1,
          0,
          0,
          2,
          0
         ]
        }
       ],
       "layout": {}
      },
      "text/html": [
       "<div id=\"688f0036-ac1a-473e-98a7-b0ec30c89f20\" style=\"height: 525px; width: 100%;\" class=\"plotly-graph-div\"></div><script type=\"text/javascript\">require([\"plotly\"], function(Plotly) { window.PLOTLYENV=window.PLOTLYENV || {};window.PLOTLYENV.BASE_URL=\"https://plot.ly\";Plotly.newPlot(\"688f0036-ac1a-473e-98a7-b0ec30c89f20\", [{\"y\": [23, 16, 21, 24, 34, 30, 28, 24, 26, 18, 23, 23, 36, 37, 49, 50, 51, 56, 46, 41, 54, 30, 40, 33, 28, 28, 30, 30, 31, 27, 23, 28], \"type\": \"box\", \"name\": \"All Accidents\"}, {\"y\": [4, 1, 7, 3, 5, 3, 11, 6, 4, 4, 1, 4, 3, 5, 4, 1, 2, 3, 6, 0, 2, 2, 3, 2, 1, 2, 2, 1, 0, 0, 2, 0], \"type\": \"box\", \"name\": \"Fatal Accidents\"}], {}, {\"linkText\": \"Export to plot.ly\", \"showLink\": true})});</script>"
      ],
      "text/vnd.plotly.v1+html": [
       "<div id=\"688f0036-ac1a-473e-98a7-b0ec30c89f20\" style=\"height: 525px; width: 100%;\" class=\"plotly-graph-div\"></div><script type=\"text/javascript\">require([\"plotly\"], function(Plotly) { window.PLOTLYENV=window.PLOTLYENV || {};window.PLOTLYENV.BASE_URL=\"https://plot.ly\";Plotly.newPlot(\"688f0036-ac1a-473e-98a7-b0ec30c89f20\", [{\"y\": [23, 16, 21, 24, 34, 30, 28, 24, 26, 18, 23, 23, 36, 37, 49, 50, 51, 56, 46, 41, 54, 30, 40, 33, 28, 28, 30, 30, 31, 27, 23, 28], \"type\": \"box\", \"name\": \"All Accidents\"}, {\"y\": [4, 1, 7, 3, 5, 3, 11, 6, 4, 4, 1, 4, 3, 5, 4, 1, 2, 3, 6, 0, 2, 2, 3, 2, 1, 2, 2, 1, 0, 0, 2, 0], \"type\": \"box\", \"name\": \"Fatal Accidents\"}], {}, {\"linkText\": \"Export to plot.ly\", \"showLink\": true})});</script>"
      ]
     },
     "metadata": {},
     "output_type": "display_data"
    }
   ],
   "source": [
    "import plotly.graph_objs as go\n",
    "\n",
    "h1 = go.Box(\n",
    "    y=all_accidents,\n",
    "    name = 'All Accidents'\n",
    ")\n",
    "h2 = go.Box(\n",
    "    y=fatal_accidents,\n",
    "    name = 'Fatal Accidents'\n",
    ")\n",
    "data = [h1, h2]\n",
    "py.iplot(data)"
   ]
  },
  {
   "cell_type": "code",
   "execution_count": 27,
   "metadata": {},
   "outputs": [
    {
     "data": {
      "application/vnd.plotly.v1+json": {
       "data": [
        {
         "type": "histogram",
         "x": [
          23,
          16,
          21,
          24,
          34,
          30,
          28,
          24,
          26,
          18,
          23,
          23,
          36,
          37,
          49,
          50,
          51,
          56,
          46,
          41,
          54,
          30,
          40,
          33,
          28,
          28,
          30,
          30,
          31,
          27,
          23,
          28
         ]
        }
       ],
       "layout": {}
      },
      "text/html": [
       "<div id=\"e6f7bd2f-fbb9-4570-afdb-21436056d323\" style=\"height: 525px; width: 100%;\" class=\"plotly-graph-div\"></div><script type=\"text/javascript\">require([\"plotly\"], function(Plotly) { window.PLOTLYENV=window.PLOTLYENV || {};window.PLOTLYENV.BASE_URL=\"https://plot.ly\";Plotly.newPlot(\"e6f7bd2f-fbb9-4570-afdb-21436056d323\", [{\"x\": [23, 16, 21, 24, 34, 30, 28, 24, 26, 18, 23, 23, 36, 37, 49, 50, 51, 56, 46, 41, 54, 30, 40, 33, 28, 28, 30, 30, 31, 27, 23, 28], \"type\": \"histogram\"}], {}, {\"linkText\": \"Export to plot.ly\", \"showLink\": true})});</script>"
      ],
      "text/vnd.plotly.v1+html": [
       "<div id=\"e6f7bd2f-fbb9-4570-afdb-21436056d323\" style=\"height: 525px; width: 100%;\" class=\"plotly-graph-div\"></div><script type=\"text/javascript\">require([\"plotly\"], function(Plotly) { window.PLOTLYENV=window.PLOTLYENV || {};window.PLOTLYENV.BASE_URL=\"https://plot.ly\";Plotly.newPlot(\"e6f7bd2f-fbb9-4570-afdb-21436056d323\", [{\"x\": [23, 16, 21, 24, 34, 30, 28, 24, 26, 18, 23, 23, 36, 37, 49, 50, 51, 56, 46, 41, 54, 30, 40, 33, 28, 28, 30, 30, 31, 27, 23, 28], \"type\": \"histogram\"}], {}, {\"linkText\": \"Export to plot.ly\", \"showLink\": true})});</script>"
      ]
     },
     "metadata": {},
     "output_type": "display_data"
    }
   ],
   "source": [
    "h1 = go.Histogram(\n",
    "    x = all_accidents\n",
    ")\n",
    "\n",
    "histogram_data = [h1]\n",
    "py.iplot(histogram_data)"
   ]
  },
  {
   "cell_type": "code",
   "execution_count": 25,
   "metadata": {},
   "outputs": [
    {
     "data": {
      "application/vnd.plotly.v1+json": {
       "data": [
        {
         "opacity": 0.75,
         "type": "histogram",
         "x": [
          23,
          16,
          21,
          24,
          34,
          30,
          28,
          24,
          26,
          18,
          23,
          23,
          36,
          37,
          49,
          50,
          51,
          56,
          46,
          41,
          54,
          30,
          40,
          33,
          28,
          28,
          30,
          30,
          31,
          27,
          23,
          28
         ]
        },
        {
         "opacity": 0.75,
         "type": "histogram",
         "x": [
          15,
          4,
          526,
          8,
          232,
          285,
          278,
          39,
          62,
          33,
          1,
          239,
          168,
          380,
          8,
          1,
          12,
          92,
          531,
          0,
          22,
          14,
          22,
          50,
          1,
          3,
          52,
          2,
          0,
          0,
          9,
          0
         ]
        }
       ],
       "layout": {
        "barmode": "overlay"
       }
      },
      "text/html": [
       "<div id=\"447981bf-917e-4f8c-89c4-781b0d771c9e\" style=\"height: 525px; width: 100%;\" class=\"plotly-graph-div\"></div><script type=\"text/javascript\">require([\"plotly\"], function(Plotly) { window.PLOTLYENV=window.PLOTLYENV || {};window.PLOTLYENV.BASE_URL=\"https://plot.ly\";Plotly.newPlot(\"447981bf-917e-4f8c-89c4-781b0d771c9e\", [{\"opacity\": 0.75, \"x\": [23, 16, 21, 24, 34, 30, 28, 24, 26, 18, 23, 23, 36, 37, 49, 50, 51, 56, 46, 41, 54, 30, 40, 33, 28, 28, 30, 30, 31, 27, 23, 28], \"type\": \"histogram\"}, {\"opacity\": 0.75, \"x\": [15, 4, 526, 8, 232, 285, 278, 39, 62, 33, 1, 239, 168, 380, 8, 1, 12, 92, 531, 0, 22, 14, 22, 50, 1, 3, 52, 2, 0, 0, 9, 0], \"type\": \"histogram\"}], {\"barmode\": \"overlay\"}, {\"linkText\": \"Export to plot.ly\", \"showLink\": true})});</script>"
      ],
      "text/vnd.plotly.v1+html": [
       "<div id=\"447981bf-917e-4f8c-89c4-781b0d771c9e\" style=\"height: 525px; width: 100%;\" class=\"plotly-graph-div\"></div><script type=\"text/javascript\">require([\"plotly\"], function(Plotly) { window.PLOTLYENV=window.PLOTLYENV || {};window.PLOTLYENV.BASE_URL=\"https://plot.ly\";Plotly.newPlot(\"447981bf-917e-4f8c-89c4-781b0d771c9e\", [{\"opacity\": 0.75, \"x\": [23, 16, 21, 24, 34, 30, 28, 24, 26, 18, 23, 23, 36, 37, 49, 50, 51, 56, 46, 41, 54, 30, 40, 33, 28, 28, 30, 30, 31, 27, 23, 28], \"type\": \"histogram\"}, {\"opacity\": 0.75, \"x\": [15, 4, 526, 8, 232, 285, 278, 39, 62, 33, 1, 239, 168, 380, 8, 1, 12, 92, 531, 0, 22, 14, 22, 50, 1, 3, 52, 2, 0, 0, 9, 0], \"type\": \"histogram\"}], {\"barmode\": \"overlay\"}, {\"linkText\": \"Export to plot.ly\", \"showLink\": true})});</script>"
      ]
     },
     "metadata": {},
     "output_type": "display_data"
    }
   ],
   "source": [
    "trace0 = go.Histogram(\n",
    "    x = all_accidents,\n",
    "    opacity = 0.75\n",
    ")\n",
    "trace1 = go.Histogram(\n",
    "    x = total_fatalities,\n",
    "    opacity = 0.75\n",
    ")\n",
    "data = [trace0, trace1]\n",
    "layout = go.Layout(barmode='overlay')\n",
    "fig = go.Figure(data=data, layout=layout)\n",
    "\n",
    "py.iplot(fig)"
   ]
  },
  {
   "cell_type": "markdown",
   "metadata": {},
   "source": [
    "## More Visualizations"
   ]
  },
  {
   "cell_type": "code",
   "execution_count": 8,
   "metadata": {},
   "outputs": [
    {
     "data": {
      "application/vnd.plotly.v1+json": {
       "data": [
        {
         "name": "Accidents Per 100,000 Flight Hours",
         "type": "box",
         "y": [
          0.315,
          0.196,
          0.241,
          0.231,
          0.31,
          0.26,
          0.248,
          0.198,
          0.221,
          0.146,
          0.181,
          0.168,
          0.267,
          0.269,
          0.309,
          0.297,
          0.291,
          0.306,
          0.236,
          0.237,
          0.309,
          0.159,
          0.206,
          0.171,
          0.143,
          0.146,
          0.17,
          0.169,
          0.173,
          0.152,
          0.13,
          0.159
         ]
        },
        {
         "name": "Fatal Accidents Per 100,000 Flight Hours",
         "type": "box",
         "y": [
          0.055,
          0.012,
          0.08,
          0.02,
          0.038,
          0.018,
          0.098,
          0.049,
          0.034,
          0.032,
          0.008,
          0.03,
          0.022,
          0.036,
          0.025,
          0.006,
          0.011,
          0.016,
          0.011,
          0,
          0.011,
          0.011,
          0.015,
          0.01,
          0.005,
          0.01,
          0.011,
          0.006,
          0,
          0,
          0.011,
          0
         ]
        }
       ],
       "layout": {}
      },
      "text/html": [
       "<div id=\"f0246eec-611c-409f-a1b5-eddda37d1678\" style=\"height: 525px; width: 100%;\" class=\"plotly-graph-div\"></div><script type=\"text/javascript\">require([\"plotly\"], function(Plotly) { window.PLOTLYENV=window.PLOTLYENV || {};window.PLOTLYENV.BASE_URL=\"https://plot.ly\";Plotly.newPlot(\"f0246eec-611c-409f-a1b5-eddda37d1678\", [{\"y\": [0.315, 0.196, 0.241, 0.231, 0.31, 0.26, 0.248, 0.198, 0.221, 0.146, 0.181, 0.168, 0.267, 0.269, 0.309, 0.297, 0.291, 0.306, 0.236, 0.237, 0.309, 0.159, 0.206, 0.171, 0.143, 0.146, 0.17, 0.169, 0.173, 0.152, 0.13, 0.159], \"type\": \"box\", \"name\": \"Accidents Per 100,000 Flight Hours\"}, {\"y\": [0.055, 0.012, 0.08, 0.02, 0.038, 0.018, 0.098, 0.049, 0.034, 0.032, 0.008, 0.03, 0.022, 0.036, 0.025, 0.006, 0.011, 0.016, 0.011, 0.0, 0.011, 0.011, 0.015, 0.01, 0.005, 0.01, 0.011, 0.006, 0.0, 0.0, 0.011, 0.0], \"type\": \"box\", \"name\": \"Fatal Accidents Per 100,000 Flight Hours\"}], {}, {\"linkText\": \"Export to plot.ly\", \"showLink\": true})});</script>"
      ],
      "text/vnd.plotly.v1+html": [
       "<div id=\"f0246eec-611c-409f-a1b5-eddda37d1678\" style=\"height: 525px; width: 100%;\" class=\"plotly-graph-div\"></div><script type=\"text/javascript\">require([\"plotly\"], function(Plotly) { window.PLOTLYENV=window.PLOTLYENV || {};window.PLOTLYENV.BASE_URL=\"https://plot.ly\";Plotly.newPlot(\"f0246eec-611c-409f-a1b5-eddda37d1678\", [{\"y\": [0.315, 0.196, 0.241, 0.231, 0.31, 0.26, 0.248, 0.198, 0.221, 0.146, 0.181, 0.168, 0.267, 0.269, 0.309, 0.297, 0.291, 0.306, 0.236, 0.237, 0.309, 0.159, 0.206, 0.171, 0.143, 0.146, 0.17, 0.169, 0.173, 0.152, 0.13, 0.159], \"type\": \"box\", \"name\": \"Accidents Per 100,000 Flight Hours\"}, {\"y\": [0.055, 0.012, 0.08, 0.02, 0.038, 0.018, 0.098, 0.049, 0.034, 0.032, 0.008, 0.03, 0.022, 0.036, 0.025, 0.006, 0.011, 0.016, 0.011, 0.0, 0.011, 0.011, 0.015, 0.01, 0.005, 0.01, 0.011, 0.006, 0.0, 0.0, 0.011, 0.0], \"type\": \"box\", \"name\": \"Fatal Accidents Per 100,000 Flight Hours\"}], {}, {\"linkText\": \"Export to plot.ly\", \"showLink\": true})});</script>"
      ]
     },
     "metadata": {},
     "output_type": "display_data"
    },
    {
     "data": {
      "application/vnd.plotly.v1+json": {
       "data": [
        {
         "name": "Accidents Per 1,000,000 Miles Flown",
         "type": "box",
         "y": [
          0.0075,
          0.0047,
          0.0058,
          0.0057,
          0.0076,
          0.0064,
          0.0061,
          0.0049,
          0.0054,
          0.0036,
          0.0044,
          0.004,
          0.0064,
          0.0063,
          0.0073,
          0.0074,
          0.0072,
          0.0074,
          0.0058,
          0.0057,
          0.0074,
          0.0038,
          0.0049,
          0.0041,
          0.0034,
          0.0035,
          0.004,
          0.0039,
          0.004,
          0.0035,
          0.003,
          0.0037
         ]
        },
        {
         "name": "Fatal Accidents Per 1,000,000 Miles Flown",
         "type": "box",
         "y": [
          0.0013,
          0.0003,
          0.0019,
          0.0005,
          0.0009,
          0.0004,
          0.0024,
          0.0012,
          0.0008,
          0.0008,
          0.0002,
          0.0007,
          0.0005,
          0.0009,
          0.0006,
          0.0001,
          0.0003,
          0.0004,
          0.0003,
          0,
          0.0003,
          0.0003,
          0.0004,
          0.0002,
          0.0001,
          0.0002,
          0.0003,
          0.0001,
          0,
          0,
          0.0003,
          0
         ]
        }
       ],
       "layout": {}
      },
      "text/html": [
       "<div id=\"3627861c-a5ed-489b-b442-99d141f5cf6c\" style=\"height: 525px; width: 100%;\" class=\"plotly-graph-div\"></div><script type=\"text/javascript\">require([\"plotly\"], function(Plotly) { window.PLOTLYENV=window.PLOTLYENV || {};window.PLOTLYENV.BASE_URL=\"https://plot.ly\";Plotly.newPlot(\"3627861c-a5ed-489b-b442-99d141f5cf6c\", [{\"y\": [0.0075, 0.0047, 0.0058, 0.0057, 0.0076, 0.0064, 0.0061, 0.0049, 0.0054, 0.0036, 0.0044, 0.004, 0.0064, 0.0063, 0.0073, 0.0074, 0.0072, 0.0074, 0.0058, 0.0057, 0.0074, 0.0038, 0.0049, 0.0041, 0.0034, 0.0035, 0.004, 0.0039, 0.004, 0.0035, 0.003, 0.0037], \"type\": \"box\", \"name\": \"Accidents Per 1,000,000 Miles Flown\"}, {\"y\": [0.0013, 0.0003, 0.0019, 0.0005, 0.0009, 0.0004, 0.0024, 0.0012, 0.0008, 0.0008, 0.0002, 0.0007, 0.0005, 0.0009, 0.0006, 0.0001, 0.0003, 0.0004, 0.0003, 0.0, 0.0003, 0.0003, 0.0004, 0.0002, 0.0001, 0.0002, 0.0003, 0.0001, 0.0, 0.0, 0.0003, 0.0], \"type\": \"box\", \"name\": \"Fatal Accidents Per 1,000,000 Miles Flown\"}], {}, {\"linkText\": \"Export to plot.ly\", \"showLink\": true})});</script>"
      ],
      "text/vnd.plotly.v1+html": [
       "<div id=\"3627861c-a5ed-489b-b442-99d141f5cf6c\" style=\"height: 525px; width: 100%;\" class=\"plotly-graph-div\"></div><script type=\"text/javascript\">require([\"plotly\"], function(Plotly) { window.PLOTLYENV=window.PLOTLYENV || {};window.PLOTLYENV.BASE_URL=\"https://plot.ly\";Plotly.newPlot(\"3627861c-a5ed-489b-b442-99d141f5cf6c\", [{\"y\": [0.0075, 0.0047, 0.0058, 0.0057, 0.0076, 0.0064, 0.0061, 0.0049, 0.0054, 0.0036, 0.0044, 0.004, 0.0064, 0.0063, 0.0073, 0.0074, 0.0072, 0.0074, 0.0058, 0.0057, 0.0074, 0.0038, 0.0049, 0.0041, 0.0034, 0.0035, 0.004, 0.0039, 0.004, 0.0035, 0.003, 0.0037], \"type\": \"box\", \"name\": \"Accidents Per 1,000,000 Miles Flown\"}, {\"y\": [0.0013, 0.0003, 0.0019, 0.0005, 0.0009, 0.0004, 0.0024, 0.0012, 0.0008, 0.0008, 0.0002, 0.0007, 0.0005, 0.0009, 0.0006, 0.0001, 0.0003, 0.0004, 0.0003, 0.0, 0.0003, 0.0003, 0.0004, 0.0002, 0.0001, 0.0002, 0.0003, 0.0001, 0.0, 0.0, 0.0003, 0.0], \"type\": \"box\", \"name\": \"Fatal Accidents Per 1,000,000 Miles Flown\"}], {}, {\"linkText\": \"Export to plot.ly\", \"showLink\": true})});</script>"
      ]
     },
     "metadata": {},
     "output_type": "display_data"
    },
    {
     "data": {
      "application/vnd.plotly.v1+json": {
       "data": [
        {
         "name": "Accidents Per 100,000 Departure",
         "type": "box",
         "y": [
          0.422,
          0.271,
          0.333,
          0.319,
          0.434,
          0.376,
          0.366,
          0.297,
          0.333,
          0.228,
          0.285,
          0.267,
          0.426,
          0.45,
          0.475,
          0.455,
          0.451,
          0.488,
          0.383,
          0.39,
          0.518,
          0.272,
          0.359,
          0.305,
          0.256,
          0.268,
          0.309,
          0.311,
          0.323,
          0.288,
          0.248,
          0.311
         ]
        },
        {
         "name": "Fatal Accidents Per 100,000 Departure",
         "type": "box",
         "y": [
          0.073,
          0.017,
          0.111,
          0.028,
          0.053,
          0.026,
          0.144,
          0.074,
          0.051,
          0.051,
          0.012,
          0.049,
          0.035,
          0.061,
          0.039,
          0.009,
          0.018,
          0.026,
          0.018,
          0,
          0.019,
          0.018,
          0.027,
          0.018,
          0.009,
          0.019,
          0.021,
          0.01,
          0,
          0,
          0.022,
          0
         ]
        }
       ],
       "layout": {}
      },
      "text/html": [
       "<div id=\"6c3622e9-5bfb-457f-882c-bcd3dff263bc\" style=\"height: 525px; width: 100%;\" class=\"plotly-graph-div\"></div><script type=\"text/javascript\">require([\"plotly\"], function(Plotly) { window.PLOTLYENV=window.PLOTLYENV || {};window.PLOTLYENV.BASE_URL=\"https://plot.ly\";Plotly.newPlot(\"6c3622e9-5bfb-457f-882c-bcd3dff263bc\", [{\"y\": [0.422, 0.271, 0.333, 0.319, 0.434, 0.376, 0.366, 0.297, 0.333, 0.228, 0.285, 0.267, 0.426, 0.45, 0.475, 0.455, 0.451, 0.488, 0.383, 0.39, 0.518, 0.272, 0.359, 0.305, 0.256, 0.268, 0.309, 0.311, 0.323, 0.288, 0.248, 0.311], \"type\": \"box\", \"name\": \"Accidents Per 100,000 Departure\"}, {\"y\": [0.073, 0.017, 0.111, 0.028, 0.053, 0.026, 0.144, 0.074, 0.051, 0.051, 0.012, 0.049, 0.035, 0.061, 0.039, 0.009, 0.018, 0.026, 0.018, 0.0, 0.019, 0.018, 0.027, 0.018, 0.009, 0.019, 0.021, 0.01, 0.0, 0.0, 0.022, 0.0], \"type\": \"box\", \"name\": \"Fatal Accidents Per 100,000 Departure\"}], {}, {\"linkText\": \"Export to plot.ly\", \"showLink\": true})});</script>"
      ],
      "text/vnd.plotly.v1+html": [
       "<div id=\"6c3622e9-5bfb-457f-882c-bcd3dff263bc\" style=\"height: 525px; width: 100%;\" class=\"plotly-graph-div\"></div><script type=\"text/javascript\">require([\"plotly\"], function(Plotly) { window.PLOTLYENV=window.PLOTLYENV || {};window.PLOTLYENV.BASE_URL=\"https://plot.ly\";Plotly.newPlot(\"6c3622e9-5bfb-457f-882c-bcd3dff263bc\", [{\"y\": [0.422, 0.271, 0.333, 0.319, 0.434, 0.376, 0.366, 0.297, 0.333, 0.228, 0.285, 0.267, 0.426, 0.45, 0.475, 0.455, 0.451, 0.488, 0.383, 0.39, 0.518, 0.272, 0.359, 0.305, 0.256, 0.268, 0.309, 0.311, 0.323, 0.288, 0.248, 0.311], \"type\": \"box\", \"name\": \"Accidents Per 100,000 Departure\"}, {\"y\": [0.073, 0.017, 0.111, 0.028, 0.053, 0.026, 0.144, 0.074, 0.051, 0.051, 0.012, 0.049, 0.035, 0.061, 0.039, 0.009, 0.018, 0.026, 0.018, 0.0, 0.019, 0.018, 0.027, 0.018, 0.009, 0.019, 0.021, 0.01, 0.0, 0.0, 0.022, 0.0], \"type\": \"box\", \"name\": \"Fatal Accidents Per 100,000 Departure\"}], {}, {\"linkText\": \"Export to plot.ly\", \"showLink\": true})});</script>"
      ]
     },
     "metadata": {},
     "output_type": "display_data"
    }
   ],
   "source": [
    "p1 = go.Box(\n",
    "    y = accidents_per_flight_hours,\n",
    "    name = \"Accidents Per 100,000 Flight Hours\"\n",
    ")\n",
    "\n",
    "p2 = go.Box(\n",
    "    y = fatal_per_flight_hours,\n",
    "    name = \"Fatal Accidents Per 100,000 Flight Hours\"\n",
    ")\n",
    "\n",
    "p3 = go.Box(\n",
    "    y = accidents_per_miles_flown,\n",
    "    name = \"Accidents Per 1,000,000 Miles Flown\"\n",
    ")\n",
    "\n",
    "p4 = go.Box(\n",
    "    y = fatal_per_miles_flown,\n",
    "    name = \"Fatal Accidents Per 1,000,000 Miles Flown\"\n",
    ")\n",
    "\n",
    "p5 = go.Box(\n",
    "    y = accidents_per_departure,\n",
    "    name = \"Accidents Per 100,000 Departure\"\n",
    ")\n",
    "\n",
    "p6 = go.Box(\n",
    "    y = fatal_per_departure,\n",
    "    name = \"Fatal Accidents Per 100,000 Departure\"\n",
    ")\n",
    "\n",
    "data_flight_hours = [p1, p2]\n",
    "data_miles_flown = [p3, p4]\n",
    "data_departure = [p5, p6]\n",
    "\n",
    "py.iplot(data_flight_hours)\n",
    "py.iplot(data_miles_flown)\n",
    "py.iplot(data_departure)"
   ]
  }
 ],
 "metadata": {
  "kernelspec": {
   "display_name": "Python 2",
   "language": "python",
   "name": "python2"
  },
  "language_info": {
   "codemirror_mode": {
    "name": "ipython",
    "version": 2
   },
   "file_extension": ".py",
   "mimetype": "text/x-python",
   "name": "python",
   "nbconvert_exporter": "python",
   "pygments_lexer": "ipython2",
   "version": "2.7.13"
  }
 },
 "nbformat": 4,
 "nbformat_minor": 2
}
