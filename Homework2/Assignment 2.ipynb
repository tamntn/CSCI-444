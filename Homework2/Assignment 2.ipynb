{
 "cells": [
  {
   "cell_type": "markdown",
   "metadata": {},
   "source": [
    "# Assignment 2 - Tam Nguyen"
   ]
  },
  {
   "cell_type": "code",
   "execution_count": 29,
   "metadata": {},
   "outputs": [
    {
     "name": "stdout",
     "output_type": "stream",
     "text": [
      "['Honda Civic Coupe', '1915', '36', '2739', 'OK']\n",
      "['Toyota Corolla', '1850', '35', '2840', 'Terrible']\n",
      "['Volkswagen Jetta', '1790', '34', '3100', 'Terrible']\n",
      "['Honda Accord', '2245', '32', '3205', 'Good']\n",
      "['Mazda 6', '2194', '31', '3230', 'OK']\n",
      "['BMW 320i', '3345', '29', '3295', 'Good']\n",
      "['Nissan Altima', '2250', '33', '3297', 'OK']\n",
      "['Toyota Camry', '2307', '29', '3345', 'OK']\n",
      "['Chevrolet Malibu', '2168', '32', '3393', 'Bad']\n",
      "['KIA Optima', '2220', '33', '3496', 'Great']\n",
      "['Honda CR-V', '2410', '31', '3510', 'Great']\n",
      "['Lexus ES 350', '3890', '26', '3571', 'Great']\n",
      "['Hyundai Sonata', '2160', '32', '3589', 'Bad']\n",
      "['Ford Fusion', '2261', '28', '3681', 'Bad']\n",
      "['Porsche Panamera', '7810', '23', '3968', 'Good']\n",
      "['Audi Q5', '4090', '24', '4387', 'Great']\n",
      "['Range Rover', '8565', '25', '4950', 'Good']\n",
      "['Ford F-150', '2710', '23', '5230', 'Great']\n",
      "['Mercedes-Benz G Wagon', '12240', '13', '5500', 'Great']\n"
     ]
    }
   ],
   "source": [
    "import csv\n",
    "import os\n",
    "import numpy as np\n",
    "\n",
    "file_name = \"car.csv\"\n",
    "input_file = open(file_name, 'r') #Open csv file\n",
    "input_file = csv.reader(input_file)\n",
    "\n",
    "name = []\n",
    "price = []\n",
    "mpg = []\n",
    "weight = []\n",
    "condition = []\n",
    "\n",
    "for row in input_file:\n",
    "    name.append(row[0])\n",
    "    price.append(int(row[1]))\n",
    "    mpg.append(int(row[2]))\n",
    "    weight.append(int(row[3]))\n",
    "    condition.append(row[4])\n",
    "    print row\n"
   ]
  },
  {
   "cell_type": "markdown",
   "metadata": {},
   "source": [
    "Cheapest car with highest MPG"
   ]
  },
  {
   "cell_type": "code",
   "execution_count": 2,
   "metadata": {},
   "outputs": [
    {
     "data": {
      "text/plain": [
       "'2.0.11'"
      ]
     },
     "execution_count": 2,
     "metadata": {},
     "output_type": "execute_result"
    }
   ],
   "source": [
    "import plotly\n",
    "plotly.__version__"
   ]
  },
  {
   "cell_type": "code",
   "execution_count": 20,
   "metadata": {},
   "outputs": [
    {
     "data": {
      "text/html": [
       "<script>requirejs.config({paths: { 'plotly': ['https://cdn.plot.ly/plotly-latest.min']},});if(!window.Plotly) {{require(['plotly'],function(plotly) {window.Plotly=plotly;});}}</script>"
      ],
      "text/vnd.plotly.v1+html": [
       "<script>requirejs.config({paths: { 'plotly': ['https://cdn.plot.ly/plotly-latest.min']},});if(!window.Plotly) {{require(['plotly'],function(plotly) {window.Plotly=plotly;});}}</script>"
      ]
     },
     "metadata": {},
     "output_type": "display_data"
    },
    {
     "data": {
      "application/vnd.plotly.v1+json": {
       "data": [
        {
         "type": "bar",
         "x": [
          "Honda Civic Coupe",
          "Toyota Corolla",
          "Volkswagen Jetta",
          "Honda Accord",
          "Mazda 6",
          "BMW 320i",
          "Nissan Altima",
          "Toyota Camry",
          "Chevrolet Malibu",
          "KIA Optima",
          "Honda CR-V",
          "Lexus ES 350",
          "Hyundai Sonata",
          "Ford Fusion",
          "Porsche Panamera",
          "Audi Q5",
          "Range Rover",
          "Ford F-150",
          "Mercedes-Benz G Wagon"
         ],
         "y": [
          36,
          35,
          34,
          32,
          31,
          29,
          33,
          29,
          32,
          33,
          31,
          26,
          32,
          28,
          23,
          24,
          25,
          23,
          13
         ]
        }
       ],
       "layout": {
        "title": "Car Mileage"
       }
      },
      "text/html": [
       "<div id=\"58910a06-bd41-4ad1-a509-243510a017b3\" style=\"height: 525px; width: 100%;\" class=\"plotly-graph-div\"></div><script type=\"text/javascript\">require([\"plotly\"], function(Plotly) { window.PLOTLYENV=window.PLOTLYENV || {};window.PLOTLYENV.BASE_URL=\"https://plot.ly\";Plotly.newPlot(\"58910a06-bd41-4ad1-a509-243510a017b3\", [{\"y\": [36, 35, 34, 32, 31, 29, 33, 29, 32, 33, 31, 26, 32, 28, 23, 24, 25, 23, 13], \"x\": [\"Honda Civic Coupe\", \"Toyota Corolla\", \"Volkswagen Jetta\", \"Honda Accord\", \"Mazda 6\", \"BMW 320i\", \"Nissan Altima\", \"Toyota Camry\", \"Chevrolet Malibu\", \"KIA Optima\", \"Honda CR-V\", \"Lexus ES 350\", \"Hyundai Sonata\", \"Ford Fusion\", \"Porsche Panamera\", \"Audi Q5\", \"Range Rover\", \"Ford F-150\", \"Mercedes-Benz G Wagon\"], \"type\": \"bar\"}], {\"title\": \"Car Mileage\"}, {\"linkText\": \"Export to plot.ly\", \"showLink\": true})});</script>"
      ],
      "text/vnd.plotly.v1+html": [
       "<div id=\"58910a06-bd41-4ad1-a509-243510a017b3\" style=\"height: 525px; width: 100%;\" class=\"plotly-graph-div\"></div><script type=\"text/javascript\">require([\"plotly\"], function(Plotly) { window.PLOTLYENV=window.PLOTLYENV || {};window.PLOTLYENV.BASE_URL=\"https://plot.ly\";Plotly.newPlot(\"58910a06-bd41-4ad1-a509-243510a017b3\", [{\"y\": [36, 35, 34, 32, 31, 29, 33, 29, 32, 33, 31, 26, 32, 28, 23, 24, 25, 23, 13], \"x\": [\"Honda Civic Coupe\", \"Toyota Corolla\", \"Volkswagen Jetta\", \"Honda Accord\", \"Mazda 6\", \"BMW 320i\", \"Nissan Altima\", \"Toyota Camry\", \"Chevrolet Malibu\", \"KIA Optima\", \"Honda CR-V\", \"Lexus ES 350\", \"Hyundai Sonata\", \"Ford Fusion\", \"Porsche Panamera\", \"Audi Q5\", \"Range Rover\", \"Ford F-150\", \"Mercedes-Benz G Wagon\"], \"type\": \"bar\"}], {\"title\": \"Car Mileage\"}, {\"linkText\": \"Export to plot.ly\", \"showLink\": true})});</script>"
      ]
     },
     "metadata": {},
     "output_type": "display_data"
    }
   ],
   "source": [
    "import plotly.offline as py\n",
    "import plotly.graph_objs as go\n",
    "py.init_notebook_mode(connected=True)\n",
    "\n",
    "chart1 = [go.Bar(\n",
    "            x=name,\n",
    "            y=mpg\n",
    "    )]\n",
    "\n",
    "layout = go.Layout(\n",
    "    title = 'Car Mileage'\n",
    ")\n",
    "\n",
    "fig = go.Figure(data = chart1, layout = layout)\n",
    "py.iplot(fig, filename='highest-mpg')"
   ]
  },
  {
   "cell_type": "code",
   "execution_count": 22,
   "metadata": {},
   "outputs": [
    {
     "data": {
      "application/vnd.plotly.v1+json": {
       "data": [
        {
         "text": [
          "Honda Civic Coupe",
          "Toyota Corolla",
          "Volkswagen Jetta",
          "Honda Accord",
          "Mazda 6",
          "BMW 320i",
          "Nissan Altima",
          "Toyota Camry",
          "Chevrolet Malibu",
          "KIA Optima",
          "Honda CR-V",
          "Lexus ES 350",
          "Hyundai Sonata",
          "Ford Fusion",
          "Porsche Panamera",
          "Audi Q5",
          "Range Rover",
          "Ford F-150",
          "Mercedes-Benz G Wagon"
         ],
         "type": "scatter",
         "x": [
          2739,
          2840,
          3100,
          3205,
          3230,
          3295,
          3297,
          3345,
          3393,
          3496,
          3510,
          3571,
          3589,
          3681,
          3968,
          4387,
          4950,
          5230,
          5500
         ],
         "y": [
          36,
          35,
          34,
          32,
          31,
          29,
          33,
          29,
          32,
          33,
          31,
          26,
          32,
          28,
          23,
          24,
          25,
          23,
          13
         ]
        }
       ],
       "layout": {
        "title": "Car Weight vs. Car MPG",
        "xaxis": {
         "title": "Weight"
        },
        "yaxis": {
         "title": "MPG"
        }
       }
      },
      "text/html": [
       "<div id=\"86b062d6-47c4-4445-a0b7-684e8daee25a\" style=\"height: 525px; width: 100%;\" class=\"plotly-graph-div\"></div><script type=\"text/javascript\">require([\"plotly\"], function(Plotly) { window.PLOTLYENV=window.PLOTLYENV || {};window.PLOTLYENV.BASE_URL=\"https://plot.ly\";Plotly.newPlot(\"86b062d6-47c4-4445-a0b7-684e8daee25a\", [{\"y\": [36, 35, 34, 32, 31, 29, 33, 29, 32, 33, 31, 26, 32, 28, 23, 24, 25, 23, 13], \"text\": [\"Honda Civic Coupe\", \"Toyota Corolla\", \"Volkswagen Jetta\", \"Honda Accord\", \"Mazda 6\", \"BMW 320i\", \"Nissan Altima\", \"Toyota Camry\", \"Chevrolet Malibu\", \"KIA Optima\", \"Honda CR-V\", \"Lexus ES 350\", \"Hyundai Sonata\", \"Ford Fusion\", \"Porsche Panamera\", \"Audi Q5\", \"Range Rover\", \"Ford F-150\", \"Mercedes-Benz G Wagon\"], \"type\": \"scatter\", \"x\": [2739, 2840, 3100, 3205, 3230, 3295, 3297, 3345, 3393, 3496, 3510, 3571, 3589, 3681, 3968, 4387, 4950, 5230, 5500]}], {\"title\": \"Car Weight vs. Car MPG\", \"xaxis\": {\"title\": \"Weight\"}, \"yaxis\": {\"title\": \"MPG\"}}, {\"linkText\": \"Export to plot.ly\", \"showLink\": true})});</script>"
      ],
      "text/vnd.plotly.v1+html": [
       "<div id=\"86b062d6-47c4-4445-a0b7-684e8daee25a\" style=\"height: 525px; width: 100%;\" class=\"plotly-graph-div\"></div><script type=\"text/javascript\">require([\"plotly\"], function(Plotly) { window.PLOTLYENV=window.PLOTLYENV || {};window.PLOTLYENV.BASE_URL=\"https://plot.ly\";Plotly.newPlot(\"86b062d6-47c4-4445-a0b7-684e8daee25a\", [{\"y\": [36, 35, 34, 32, 31, 29, 33, 29, 32, 33, 31, 26, 32, 28, 23, 24, 25, 23, 13], \"text\": [\"Honda Civic Coupe\", \"Toyota Corolla\", \"Volkswagen Jetta\", \"Honda Accord\", \"Mazda 6\", \"BMW 320i\", \"Nissan Altima\", \"Toyota Camry\", \"Chevrolet Malibu\", \"KIA Optima\", \"Honda CR-V\", \"Lexus ES 350\", \"Hyundai Sonata\", \"Ford Fusion\", \"Porsche Panamera\", \"Audi Q5\", \"Range Rover\", \"Ford F-150\", \"Mercedes-Benz G Wagon\"], \"type\": \"scatter\", \"x\": [2739, 2840, 3100, 3205, 3230, 3295, 3297, 3345, 3393, 3496, 3510, 3571, 3589, 3681, 3968, 4387, 4950, 5230, 5500]}], {\"title\": \"Car Weight vs. Car MPG\", \"xaxis\": {\"title\": \"Weight\"}, \"yaxis\": {\"title\": \"MPG\"}}, {\"linkText\": \"Export to plot.ly\", \"showLink\": true})});</script>"
      ]
     },
     "metadata": {},
     "output_type": "display_data"
    }
   ],
   "source": [
    "trace = go.Scatter(\n",
    "    x = weight,\n",
    "    y = mpg,\n",
    "    text = name\n",
    ")\n",
    "\n",
    "layout = go.Layout(\n",
    "    title = 'Car Weight vs. Car MPG',\n",
    "    yaxis = dict(\n",
    "        title = 'MPG'\n",
    "    ),\n",
    "    xaxis = dict(\n",
    "        title = 'Weight'\n",
    "    )\n",
    ")\n",
    "\n",
    "data = [trace]\n",
    "fig = go.Figure(data = data, layout = layout)\n",
    "py.iplot(fig, filename = 'correlation2')"
   ]
  },
  {
   "cell_type": "code",
   "execution_count": 23,
   "metadata": {},
   "outputs": [
    {
     "data": {
      "application/vnd.plotly.v1+json": {
       "data": [
        {
         "name": "Weight",
         "type": "scatter",
         "x": [
          "Honda Civic Coupe",
          "Toyota Corolla",
          "Volkswagen Jetta",
          "Honda Accord",
          "Mazda 6",
          "BMW 320i",
          "Nissan Altima",
          "Toyota Camry",
          "Chevrolet Malibu",
          "KIA Optima",
          "Honda CR-V",
          "Lexus ES 350",
          "Hyundai Sonata",
          "Ford Fusion",
          "Porsche Panamera",
          "Audi Q5",
          "Range Rover",
          "Ford F-150",
          "Mercedes-Benz G Wagon"
         ],
         "y": [
          2739,
          2840,
          3100,
          3205,
          3230,
          3295,
          3297,
          3345,
          3393,
          3496,
          3510,
          3571,
          3589,
          3681,
          3968,
          4387,
          4950,
          5230,
          5500
         ]
        },
        {
         "name": "MPG",
         "type": "scatter",
         "x": [
          "Honda Civic Coupe",
          "Toyota Corolla",
          "Volkswagen Jetta",
          "Honda Accord",
          "Mazda 6",
          "BMW 320i",
          "Nissan Altima",
          "Toyota Camry",
          "Chevrolet Malibu",
          "KIA Optima",
          "Honda CR-V",
          "Lexus ES 350",
          "Hyundai Sonata",
          "Ford Fusion",
          "Porsche Panamera",
          "Audi Q5",
          "Range Rover",
          "Ford F-150",
          "Mercedes-Benz G Wagon"
         ],
         "y": [
          36,
          35,
          34,
          32,
          31,
          29,
          33,
          29,
          32,
          33,
          31,
          26,
          32,
          28,
          23,
          24,
          25,
          23,
          13
         ],
         "yaxis": "y2"
        }
       ],
       "layout": {
        "title": "Car Weight and MPG",
        "yaxis": {
         "title": "Car Weight (Pounds)"
        },
        "yaxis2": {
         "overlaying": "y",
         "side": "right",
         "title": "Car MPG (Miles Per Gallon)"
        }
       }
      },
      "text/html": [
       "<div id=\"cce3a7b8-a1e5-4b45-9315-ca059cdaf5f8\" style=\"height: 525px; width: 100%;\" class=\"plotly-graph-div\"></div><script type=\"text/javascript\">require([\"plotly\"], function(Plotly) { window.PLOTLYENV=window.PLOTLYENV || {};window.PLOTLYENV.BASE_URL=\"https://plot.ly\";Plotly.newPlot(\"cce3a7b8-a1e5-4b45-9315-ca059cdaf5f8\", [{\"y\": [2739, 2840, 3100, 3205, 3230, 3295, 3297, 3345, 3393, 3496, 3510, 3571, 3589, 3681, 3968, 4387, 4950, 5230, 5500], \"x\": [\"Honda Civic Coupe\", \"Toyota Corolla\", \"Volkswagen Jetta\", \"Honda Accord\", \"Mazda 6\", \"BMW 320i\", \"Nissan Altima\", \"Toyota Camry\", \"Chevrolet Malibu\", \"KIA Optima\", \"Honda CR-V\", \"Lexus ES 350\", \"Hyundai Sonata\", \"Ford Fusion\", \"Porsche Panamera\", \"Audi Q5\", \"Range Rover\", \"Ford F-150\", \"Mercedes-Benz G Wagon\"], \"type\": \"scatter\", \"name\": \"Weight\"}, {\"y\": [36, 35, 34, 32, 31, 29, 33, 29, 32, 33, 31, 26, 32, 28, 23, 24, 25, 23, 13], \"x\": [\"Honda Civic Coupe\", \"Toyota Corolla\", \"Volkswagen Jetta\", \"Honda Accord\", \"Mazda 6\", \"BMW 320i\", \"Nissan Altima\", \"Toyota Camry\", \"Chevrolet Malibu\", \"KIA Optima\", \"Honda CR-V\", \"Lexus ES 350\", \"Hyundai Sonata\", \"Ford Fusion\", \"Porsche Panamera\", \"Audi Q5\", \"Range Rover\", \"Ford F-150\", \"Mercedes-Benz G Wagon\"], \"type\": \"scatter\", \"name\": \"MPG\", \"yaxis\": \"y2\"}], {\"yaxis2\": {\"overlaying\": \"y\", \"side\": \"right\", \"title\": \"Car MPG (Miles Per Gallon)\"}, \"title\": \"Car Weight and MPG\", \"yaxis\": {\"title\": \"Car Weight (Pounds)\"}}, {\"linkText\": \"Export to plot.ly\", \"showLink\": true})});</script>"
      ],
      "text/vnd.plotly.v1+html": [
       "<div id=\"cce3a7b8-a1e5-4b45-9315-ca059cdaf5f8\" style=\"height: 525px; width: 100%;\" class=\"plotly-graph-div\"></div><script type=\"text/javascript\">require([\"plotly\"], function(Plotly) { window.PLOTLYENV=window.PLOTLYENV || {};window.PLOTLYENV.BASE_URL=\"https://plot.ly\";Plotly.newPlot(\"cce3a7b8-a1e5-4b45-9315-ca059cdaf5f8\", [{\"y\": [2739, 2840, 3100, 3205, 3230, 3295, 3297, 3345, 3393, 3496, 3510, 3571, 3589, 3681, 3968, 4387, 4950, 5230, 5500], \"x\": [\"Honda Civic Coupe\", \"Toyota Corolla\", \"Volkswagen Jetta\", \"Honda Accord\", \"Mazda 6\", \"BMW 320i\", \"Nissan Altima\", \"Toyota Camry\", \"Chevrolet Malibu\", \"KIA Optima\", \"Honda CR-V\", \"Lexus ES 350\", \"Hyundai Sonata\", \"Ford Fusion\", \"Porsche Panamera\", \"Audi Q5\", \"Range Rover\", \"Ford F-150\", \"Mercedes-Benz G Wagon\"], \"type\": \"scatter\", \"name\": \"Weight\"}, {\"y\": [36, 35, 34, 32, 31, 29, 33, 29, 32, 33, 31, 26, 32, 28, 23, 24, 25, 23, 13], \"x\": [\"Honda Civic Coupe\", \"Toyota Corolla\", \"Volkswagen Jetta\", \"Honda Accord\", \"Mazda 6\", \"BMW 320i\", \"Nissan Altima\", \"Toyota Camry\", \"Chevrolet Malibu\", \"KIA Optima\", \"Honda CR-V\", \"Lexus ES 350\", \"Hyundai Sonata\", \"Ford Fusion\", \"Porsche Panamera\", \"Audi Q5\", \"Range Rover\", \"Ford F-150\", \"Mercedes-Benz G Wagon\"], \"type\": \"scatter\", \"name\": \"MPG\", \"yaxis\": \"y2\"}], {\"yaxis2\": {\"overlaying\": \"y\", \"side\": \"right\", \"title\": \"Car MPG (Miles Per Gallon)\"}, \"title\": \"Car Weight and MPG\", \"yaxis\": {\"title\": \"Car Weight (Pounds)\"}}, {\"linkText\": \"Export to plot.ly\", \"showLink\": true})});</script>"
      ]
     },
     "metadata": {},
     "output_type": "display_data"
    }
   ],
   "source": [
    "line1 = go.Scatter(\n",
    "    x = name,\n",
    "    y = weight,\n",
    "    name = 'Weight'\n",
    ")\n",
    "\n",
    "line2 = go.Scatter(\n",
    "    x = name,\n",
    "    y = mpg,\n",
    "    name = 'MPG',\n",
    "    yaxis = 'y2'\n",
    ")\n",
    "\n",
    "layout = go.Layout(\n",
    "    title = 'Car Weight and MPG',\n",
    "    yaxis = dict(\n",
    "        title = 'Car Weight (Pounds)'\n",
    "    ),\n",
    "    yaxis2 = dict(\n",
    "        title = 'Car MPG (Miles Per Gallon)',\n",
    "        overlaying='y',\n",
    "        side='right'\n",
    "    )\n",
    ")\n",
    "\n",
    "data = [line1, line2]\n",
    "fig = go.Figure(data=data, layout=layout)\n",
    "py.iplot(fig, filename='correlation')"
   ]
  },
  {
   "cell_type": "code",
   "execution_count": 19,
   "metadata": {},
   "outputs": [
    {
     "data": {
      "application/vnd.plotly.v1+json": {
       "data": [
        {
         "name": "Great Condition",
         "type": "bar",
         "x": [
          "KIA Optima",
          "Honda CR-V",
          "Lexus ES 350",
          "Audi Q5",
          "Ford F-150",
          "Mercedes-Benz G Wagon"
         ],
         "y": [
          2220,
          2410,
          3890,
          4090,
          2710,
          12240
         ]
        },
        {
         "name": "Good Condition",
         "type": "bar",
         "x": [
          "Honda Accord",
          "BMW 320i",
          "Porsche Panamera",
          "Range Rover"
         ],
         "y": [
          2245,
          3345,
          7810,
          8565
         ]
        },
        {
         "name": "OK Condition",
         "type": "bar",
         "x": [
          "Honda Civic Coupe",
          "Mazda 6",
          "Nissan Altima",
          "Toyota Camry"
         ],
         "y": [
          1915,
          2194,
          2250,
          2307
         ]
        },
        {
         "name": "Bad Condition",
         "type": "bar",
         "x": [
          "Chevrolet Malibu",
          "Hyundai Sonata",
          "Ford Fusion"
         ],
         "y": [
          2168,
          2160,
          2261
         ]
        },
        {
         "name": "Terrible Condition",
         "type": "bar",
         "x": [
          "Toyota Corolla",
          "Volkswagen Jetta"
         ],
         "y": [
          1850,
          1790
         ]
        },
        {
         "marker": {
          "color": "rgba(255, 182, 193, .9)",
          "line": {
           "width": 2
          },
          "size": 10
         },
         "mode": "markers",
         "name": "Car MPG",
         "type": "scatter",
         "x": [
          "Honda Civic Coupe",
          "Toyota Corolla",
          "Volkswagen Jetta",
          "Honda Accord",
          "Mazda 6",
          "BMW 320i",
          "Nissan Altima",
          "Toyota Camry",
          "Chevrolet Malibu",
          "KIA Optima",
          "Honda CR-V",
          "Lexus ES 350",
          "Hyundai Sonata",
          "Ford Fusion",
          "Porsche Panamera",
          "Audi Q5",
          "Range Rover",
          "Ford F-150",
          "Mercedes-Benz G Wagon"
         ],
         "y": [
          36,
          35,
          34,
          32,
          31,
          29,
          33,
          29,
          32,
          33,
          31,
          26,
          32,
          28,
          23,
          24,
          25,
          23,
          13
         ],
         "yaxis": "y2"
        }
       ],
       "layout": {
        "barmode": "group",
        "title": "Price and Mileage Grouped by Condition",
        "yaxis": {
         "title": "Car Price (USD)"
        },
        "yaxis2": {
         "overlaying": "y",
         "side": "right",
         "title": "Car MPG"
        }
       }
      },
      "text/html": [
       "<div id=\"16ed2829-d754-4be5-bbf0-07b85473a74e\" style=\"height: 525px; width: 100%;\" class=\"plotly-graph-div\"></div><script type=\"text/javascript\">require([\"plotly\"], function(Plotly) { window.PLOTLYENV=window.PLOTLYENV || {};window.PLOTLYENV.BASE_URL=\"https://plot.ly\";Plotly.newPlot(\"16ed2829-d754-4be5-bbf0-07b85473a74e\", [{\"y\": [2220, 2410, 3890, 4090, 2710, 12240], \"x\": [\"KIA Optima\", \"Honda CR-V\", \"Lexus ES 350\", \"Audi Q5\", \"Ford F-150\", \"Mercedes-Benz G Wagon\"], \"type\": \"bar\", \"name\": \"Great Condition\"}, {\"y\": [2245, 3345, 7810, 8565], \"x\": [\"Honda Accord\", \"BMW 320i\", \"Porsche Panamera\", \"Range Rover\"], \"type\": \"bar\", \"name\": \"Good Condition\"}, {\"y\": [1915, 2194, 2250, 2307], \"x\": [\"Honda Civic Coupe\", \"Mazda 6\", \"Nissan Altima\", \"Toyota Camry\"], \"type\": \"bar\", \"name\": \"OK Condition\"}, {\"y\": [2168, 2160, 2261], \"x\": [\"Chevrolet Malibu\", \"Hyundai Sonata\", \"Ford Fusion\"], \"type\": \"bar\", \"name\": \"Bad Condition\"}, {\"y\": [1850, 1790], \"x\": [\"Toyota Corolla\", \"Volkswagen Jetta\"], \"type\": \"bar\", \"name\": \"Terrible Condition\"}, {\"name\": \"Car MPG\", \"yaxis\": \"y2\", \"marker\": {\"color\": \"rgba(255, 182, 193, .9)\", \"line\": {\"width\": 2}, \"size\": 10}, \"mode\": \"markers\", \"y\": [36, 35, 34, 32, 31, 29, 33, 29, 32, 33, 31, 26, 32, 28, 23, 24, 25, 23, 13], \"x\": [\"Honda Civic Coupe\", \"Toyota Corolla\", \"Volkswagen Jetta\", \"Honda Accord\", \"Mazda 6\", \"BMW 320i\", \"Nissan Altima\", \"Toyota Camry\", \"Chevrolet Malibu\", \"KIA Optima\", \"Honda CR-V\", \"Lexus ES 350\", \"Hyundai Sonata\", \"Ford Fusion\", \"Porsche Panamera\", \"Audi Q5\", \"Range Rover\", \"Ford F-150\", \"Mercedes-Benz G Wagon\"], \"type\": \"scatter\"}], {\"barmode\": \"group\", \"yaxis2\": {\"overlaying\": \"y\", \"side\": \"right\", \"title\": \"Car MPG\"}, \"title\": \"Price and Mileage Grouped by Condition\", \"yaxis\": {\"title\": \"Car Price (USD)\"}}, {\"linkText\": \"Export to plot.ly\", \"showLink\": true})});</script>"
      ],
      "text/vnd.plotly.v1+html": [
       "<div id=\"16ed2829-d754-4be5-bbf0-07b85473a74e\" style=\"height: 525px; width: 100%;\" class=\"plotly-graph-div\"></div><script type=\"text/javascript\">require([\"plotly\"], function(Plotly) { window.PLOTLYENV=window.PLOTLYENV || {};window.PLOTLYENV.BASE_URL=\"https://plot.ly\";Plotly.newPlot(\"16ed2829-d754-4be5-bbf0-07b85473a74e\", [{\"y\": [2220, 2410, 3890, 4090, 2710, 12240], \"x\": [\"KIA Optima\", \"Honda CR-V\", \"Lexus ES 350\", \"Audi Q5\", \"Ford F-150\", \"Mercedes-Benz G Wagon\"], \"type\": \"bar\", \"name\": \"Great Condition\"}, {\"y\": [2245, 3345, 7810, 8565], \"x\": [\"Honda Accord\", \"BMW 320i\", \"Porsche Panamera\", \"Range Rover\"], \"type\": \"bar\", \"name\": \"Good Condition\"}, {\"y\": [1915, 2194, 2250, 2307], \"x\": [\"Honda Civic Coupe\", \"Mazda 6\", \"Nissan Altima\", \"Toyota Camry\"], \"type\": \"bar\", \"name\": \"OK Condition\"}, {\"y\": [2168, 2160, 2261], \"x\": [\"Chevrolet Malibu\", \"Hyundai Sonata\", \"Ford Fusion\"], \"type\": \"bar\", \"name\": \"Bad Condition\"}, {\"y\": [1850, 1790], \"x\": [\"Toyota Corolla\", \"Volkswagen Jetta\"], \"type\": \"bar\", \"name\": \"Terrible Condition\"}, {\"name\": \"Car MPG\", \"yaxis\": \"y2\", \"marker\": {\"color\": \"rgba(255, 182, 193, .9)\", \"line\": {\"width\": 2}, \"size\": 10}, \"mode\": \"markers\", \"y\": [36, 35, 34, 32, 31, 29, 33, 29, 32, 33, 31, 26, 32, 28, 23, 24, 25, 23, 13], \"x\": [\"Honda Civic Coupe\", \"Toyota Corolla\", \"Volkswagen Jetta\", \"Honda Accord\", \"Mazda 6\", \"BMW 320i\", \"Nissan Altima\", \"Toyota Camry\", \"Chevrolet Malibu\", \"KIA Optima\", \"Honda CR-V\", \"Lexus ES 350\", \"Hyundai Sonata\", \"Ford Fusion\", \"Porsche Panamera\", \"Audi Q5\", \"Range Rover\", \"Ford F-150\", \"Mercedes-Benz G Wagon\"], \"type\": \"scatter\"}], {\"barmode\": \"group\", \"yaxis2\": {\"overlaying\": \"y\", \"side\": \"right\", \"title\": \"Car MPG\"}, \"title\": \"Price and Mileage Grouped by Condition\", \"yaxis\": {\"title\": \"Car Price (USD)\"}}, {\"linkText\": \"Export to plot.ly\", \"showLink\": true})});</script>"
      ]
     },
     "metadata": {},
     "output_type": "display_data"
    }
   ],
   "source": [
    "great = []\n",
    "good = []\n",
    "ok = []\n",
    "bad = []\n",
    "terrible = []\n",
    "\n",
    "great_price = []\n",
    "good_price = []\n",
    "ok_price = []\n",
    "bad_price = []\n",
    "terrible_price = []\n",
    "\n",
    "great_mpg = []\n",
    "good_mpg = []\n",
    "ok_mpg = []\n",
    "bad_mpg = []\n",
    "terrible_mpg = []\n",
    "\n",
    "for x in range(0, len(name)):\n",
    "    if(condition[x].lower() == 'great'):\n",
    "        great.append(name[x])\n",
    "        great_price.append(price[x])\n",
    "        great_mpg.append(mpg[x])\n",
    "    elif(condition[x].lower() == 'good'):\n",
    "        good.append(name[x])\n",
    "        good_price.append(price[x])\n",
    "        good_mpg.append(mpg[x])\n",
    "    elif(condition[x].lower() == 'ok'):\n",
    "        ok.append(name[x])\n",
    "        ok_price.append(price[x])\n",
    "        ok_mpg.append(mpg[x])\n",
    "    elif(condition[x].lower() == 'bad'):\n",
    "        bad.append(name[x])\n",
    "        bad_price.append(price[x])\n",
    "        bad_mpg.append(mpg[x])\n",
    "    else:\n",
    "        terrible.append(name[x])\n",
    "        terrible_price.append(price[x])\n",
    "        terrible_mpg.append(mpg[x])\n",
    "    \n",
    "trace1 = go.Bar(\n",
    "    x=great,\n",
    "    y=great_price,\n",
    "    name='Great Condition'\n",
    ")\n",
    "trace2 = go.Bar(\n",
    "    x=good,\n",
    "    y=good_price,\n",
    "    name='Good Condition'\n",
    ")\n",
    "trace3 = go.Bar(\n",
    "    x=ok,\n",
    "    y=ok_price,\n",
    "    name='OK Condition'\n",
    ")\n",
    "trace4 = go.Bar(\n",
    "    x=bad,\n",
    "    y=bad_price,\n",
    "    name='Bad Condition'\n",
    ")\n",
    "trace5 = go.Bar(\n",
    "    x=terrible,\n",
    "    y=terrible_price,\n",
    "    name='Terrible Condition'\n",
    ")\n",
    "\n",
    "trace6 = go.Scatter(\n",
    "    x = name,\n",
    "    y = mpg,\n",
    "    mode = 'markers',\n",
    "    name = 'Car MPG',\n",
    "    yaxis = 'y2',\n",
    "    marker = dict(\n",
    "        size = 10,\n",
    "        color = 'rgba(255, 182, 193, .9)',\n",
    "        line = dict(\n",
    "            width = 2,\n",
    "        )\n",
    "    )\n",
    ")\n",
    "\n",
    "data = [trace1, trace2, trace3, trace4, trace5, trace6]\n",
    "layout = go.Layout(\n",
    "    barmode='group',\n",
    "    title = 'Price and Mileage Grouped by Condition',\n",
    "    yaxis = dict(\n",
    "        title = 'Car Price (USD)'\n",
    "    ),\n",
    "    yaxis2 = dict(\n",
    "        title = 'Car MPG',\n",
    "        overlaying='y',\n",
    "        side='right'\n",
    "    )\n",
    ")\n",
    "\n",
    "fig = go.Figure(data=data, layout=layout)\n",
    "py.iplot(fig, filename='price grouped by condition')"
   ]
  },
  {
   "cell_type": "code",
   "execution_count": 28,
   "metadata": {},
   "outputs": [
    {
     "data": {
      "application/vnd.plotly.v1+json": {
       "data": [
        {
         "hoverinfo": "label+value",
         "labels": [
          "Great",
          "Good",
          "OK",
          "Bad",
          "Terrible"
         ],
         "marker": {
          "line": {
           "color": "#000000",
           "width": 1
          }
         },
         "textfont": {
          "size": 16
         },
         "textinfo": "percent",
         "type": "pie",
         "values": [
          6,
          4,
          4,
          3,
          2
         ]
        }
       ],
       "layout": {
        "title": "Car Condition Distribution."
       }
      },
      "text/html": [
       "<div id=\"dc501ffd-0fc6-476f-abab-299d7ddc8a5c\" style=\"height: 525px; width: 100%;\" class=\"plotly-graph-div\"></div><script type=\"text/javascript\">require([\"plotly\"], function(Plotly) { window.PLOTLYENV=window.PLOTLYENV || {};window.PLOTLYENV.BASE_URL=\"https://plot.ly\";Plotly.newPlot(\"dc501ffd-0fc6-476f-abab-299d7ddc8a5c\", [{\"textfont\": {\"size\": 16}, \"labels\": [\"Great\", \"Good\", \"OK\", \"Bad\", \"Terrible\"], \"values\": [6, 4, 4, 3, 2], \"hoverinfo\": \"label+value\", \"marker\": {\"line\": {\"color\": \"#000000\", \"width\": 1}}, \"textinfo\": \"percent\", \"type\": \"pie\"}], {\"title\": \"Car Condition Distribution.\"}, {\"linkText\": \"Export to plot.ly\", \"showLink\": true})});</script>"
      ],
      "text/vnd.plotly.v1+html": [
       "<div id=\"dc501ffd-0fc6-476f-abab-299d7ddc8a5c\" style=\"height: 525px; width: 100%;\" class=\"plotly-graph-div\"></div><script type=\"text/javascript\">require([\"plotly\"], function(Plotly) { window.PLOTLYENV=window.PLOTLYENV || {};window.PLOTLYENV.BASE_URL=\"https://plot.ly\";Plotly.newPlot(\"dc501ffd-0fc6-476f-abab-299d7ddc8a5c\", [{\"textfont\": {\"size\": 16}, \"labels\": [\"Great\", \"Good\", \"OK\", \"Bad\", \"Terrible\"], \"values\": [6, 4, 4, 3, 2], \"hoverinfo\": \"label+value\", \"marker\": {\"line\": {\"color\": \"#000000\", \"width\": 1}}, \"textinfo\": \"percent\", \"type\": \"pie\"}], {\"title\": \"Car Condition Distribution.\"}, {\"linkText\": \"Export to plot.ly\", \"showLink\": true})});</script>"
      ]
     },
     "metadata": {},
     "output_type": "display_data"
    }
   ],
   "source": [
    "labels = ['Great', 'Good', 'OK', 'Bad', 'Terrible']\n",
    "values = [len(great), len(good), len(ok), len(bad), len(terrible)]\n",
    "\n",
    "trace = go.Pie(labels=labels, values=values,\n",
    "               hoverinfo='label+value', textinfo='percent', \n",
    "               textfont=dict(size=16),\n",
    "               marker=dict(line=dict(color='#000000', width=1)))\n",
    "\n",
    "layout = go.Layout(\n",
    "    title = 'Car Condition Distribution.'\n",
    ")\n",
    "\n",
    "fig = go.Figure(data = [trace], layout = layout)\n",
    "py.iplot(fig, filename='pie_chart')"
   ]
  }
 ],
 "metadata": {
  "kernelspec": {
   "display_name": "Python 2",
   "language": "python",
   "name": "python2"
  },
  "language_info": {
   "codemirror_mode": {
    "name": "ipython",
    "version": 2
   },
   "file_extension": ".py",
   "mimetype": "text/x-python",
   "name": "python",
   "nbconvert_exporter": "python",
   "pygments_lexer": "ipython2",
   "version": "2.7.13"
  }
 },
 "nbformat": 4,
 "nbformat_minor": 2
}
